{
 "cells": [
  {
   "cell_type": "code",
   "execution_count": 3,
   "metadata": {},
   "outputs": [
    {
     "name": "stdout",
     "output_type": "stream",
     "text": [
      "hello world\n"
     ]
    }
   ],
   "source": [
    "System.out.println(\"hello world\");"
   ]
  },
  {
   "cell_type": "code",
   "execution_count": 5,
   "metadata": {},
   "outputs": [],
   "source": [
    "%maven uk.co.terminological:working-drafts:0.01-SNAPSHOT"
   ]
  },
  {
   "cell_type": "code",
   "execution_count": 10,
   "metadata": {},
   "outputs": [],
   "source": [
    "import uk.co.terminological.pubmedclient.PubMedRestClient;\n",
    "import org.apache.log4j.BasicConfigurator;"
   ]
  },
  {
   "cell_type": "code",
   "execution_count": 11,
   "metadata": {},
   "outputs": [],
   "source": [
    "BasicConfigurator.configure();"
   ]
  },
  {
   "cell_type": "code",
   "execution_count": 12,
   "metadata": {},
   "outputs": [],
   "source": [
    "PubMedRestClient pmc = new PubMedRestClient(\"d5b889f78c488ce3c41308eb48bcf16b4508\",\"test_client\",\"rob@terminological.co.uk\")"
   ]
  },
  {
   "cell_type": "code",
   "execution_count": 14,
   "metadata": {},
   "outputs": [
    {
     "ename": "CompilationException",
     "evalue": "",
     "output_type": "error",
     "traceback": [
      "\u001b[1m\u001b[30m|   \u001b[1m\u001b[30m\u001b[0m\u001b[1m\u001b[30m\u001b[41mvar\u001b[0m\u001b[1m\u001b[30m result = pmc.searchPubmed(\"machine learning\");\u001b[0m",
      "\u001b[1m\u001b[31mcannot find symbol\u001b[0m",
      "\u001b[1m\u001b[31m  symbol:   class var\u001b[0m",
      "",
      "\u001b[1m\u001b[30m|   \u001b[1m\u001b[30mvar result = \u001b[0m\u001b[1m\u001b[30m\u001b[41mpmc.searchPubmed\u001b[0m\u001b[1m\u001b[30m(\"machine learning\");\u001b[0m",
      "\u001b[1m\u001b[31mmethod searchPubmed in class uk.co.terminological.pubmedclient.PubMedRestClient cannot be applied to given types;\u001b[0m",
      "\u001b[1m\u001b[31m  required: java.lang.String,int\u001b[0m",
      "\u001b[1m\u001b[31m  found: java.lang.String\u001b[0m",
      "\u001b[1m\u001b[31m  reason: actual and formal argument lists differ in length\u001b[0m",
      ""
     ]
    }
   ],
   "source": [
    "var result = pmc.searchPubmed(\"machine learning\");"
   ]
  },
  {
   "cell_type": "code",
   "execution_count": null,
   "metadata": {},
   "outputs": [],
   "source": []
  }
 ],
 "metadata": {
  "kernelspec": {
   "display_name": "Java",
   "language": "java",
   "name": "java"
  },
  "language_info": {
   "codemirror_mode": "java",
   "file_extension": ".java",
   "mimetype": "text/x-java-source",
   "name": "Java",
   "pygments_lexer": "java",
   "version": "9.0.4+11"
  }
 },
 "nbformat": 4,
 "nbformat_minor": 2
}
